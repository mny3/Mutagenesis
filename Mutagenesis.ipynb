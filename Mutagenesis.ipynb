{
 "cells": [
  {
   "cell_type": "markdown",
   "metadata": {},
   "source": [
    "# Mutagenesis: determine codon substitution"
   ]
  },
  {
   "cell_type": "markdown",
   "metadata": {},
   "source": [
    "## Set working directory"
   ]
  },
  {
   "cell_type": "markdown",
   "metadata": {},
   "source": [
    "The working directory should contain the amino acid sequence for the protein of interest and the nucleotide sequence of the coding region for the gene of interest."
   ]
  },
  {
   "cell_type": "code",
   "execution_count": 2,
   "metadata": {
    "collapsed": true
   },
   "outputs": [],
   "source": [
    "import os\n",
    "\n",
    "os.chdir('C:/Users/mny3/Desktop/Mike Young Yang Lab/Protocols/Mutagenesis')\n"
   ]
  },
  {
   "cell_type": "markdown",
   "metadata": {},
   "source": [
    "## Codon table"
   ]
  },
  {
   "cell_type": "markdown",
   "metadata": {},
   "source": [
    "Using a python dictionary establish a codon table."
   ]
  },
  {
   "cell_type": "code",
   "execution_count": 3,
   "metadata": {
    "collapsed": true
   },
   "outputs": [],
   "source": [
    "codontable = {\n",
    "    'ATA':'I', 'ATC':'I', 'ATT':'I', 'ATG':'M',\n",
    "    'ACA':'T', 'ACC':'T', 'ACG':'T', 'ACT':'T',\n",
    "    'AAC':'N', 'AAT':'N', 'AAA':'K', 'AAG':'K',\n",
    "    'AGC':'S', 'AGT':'S', 'AGA':'R', 'AGG':'R',\n",
    "    'CTA':'L', 'CTC':'L', 'CTG':'L', 'CTT':'L',\n",
    "    'CCA':'P', 'CCC':'P', 'CCG':'P', 'CCT':'P',\n",
    "    'CAC':'H', 'CAT':'H', 'CAA':'Q', 'CAG':'Q',\n",
    "    'CGA':'R', 'CGC':'R', 'CGG':'R', 'CGT':'R',\n",
    "    'GTA':'V', 'GTC':'V', 'GTG':'V', 'GTT':'V',\n",
    "    'GCA':'A', 'GCC':'A', 'GCG':'A', 'GCT':'A',\n",
    "    'GAC':'D', 'GAT':'D', 'GAA':'E', 'GAG':'E',\n",
    "    'GGA':'G', 'GGC':'G', 'GGG':'G', 'GGT':'G',\n",
    "    'TCA':'S', 'TCC':'S', 'TCG':'S', 'TCT':'S',\n",
    "    'TTC':'F', 'TTT':'F', 'TTA':'L', 'TTG':'L',\n",
    "    'TAC':'Y', 'TAT':'Y', 'TAA':'_', 'TAG':'_',\n",
    "    'TGC':'C', 'TGT':'C', 'TGA':'_', 'TGG':'W',\n",
    "    }"
   ]
  },
  {
   "cell_type": "markdown",
   "metadata": {},
   "source": [
    "## Custom functions"
   ]
  },
  {
   "cell_type": "markdown",
   "metadata": {},
   "source": [
    "strip_string(s)\n",
    "\n",
    "    This function is meant to strip the user input in the form of X##X in which X is a single character amino acid \n",
    "    designation and # refers to the position of the particular amino acid in order to determine the position\n",
    "        \n",
    "    Arguments:\n",
    "        s - string to be be stripped of amino acid designations in order to determine amino acid number based on user input\n",
    "            \n",
    "    Ex.\n",
    "        input:strip_string(R296A)\n",
    "        output:296"
   ]
  },
  {
   "cell_type": "code",
   "execution_count": 4,
   "metadata": {
    "collapsed": true
   },
   "outputs": [],
   "source": [
    "def strip_string(s):\n",
    "    remove = [\"I\", \"T\", \"N\", \"S\",\"L\",\"P\",\"H\",\"R\",\"V\",\"A\",\"D\",\"G\",\"F\",\"Y\",\n",
    "                     \"C\",\"E\",\"M\",\"W\",\"_\",\"Q\",\"K\"]\n",
    "    for i in remove:\n",
    "        s = s.replace(i, \"\")\n",
    "    return s"
   ]
  },
  {
   "cell_type": "markdown",
   "metadata": {},
   "source": [
    "similarity(s1,l2)\n",
    "\n",
    "    This function compares two codons and determines how similar they are in order to select the most conservative substitution \n",
    "    needed to make the mutation of interest.\n",
    "    \n",
    "    Arguments:\n",
    "        s1 - codon of the original amino acid\n",
    "        l2 - list of putative codons of the amino acid for the mutation of interest\n",
    "       \n",
    "    Ex. \n",
    "        input:similarity(AAC,[CAC,CAT,AAT,ACA])\n",
    "        output:[1,2,1,2]"
   ]
  },
  {
   "cell_type": "code",
   "execution_count": 5,
   "metadata": {
    "collapsed": true
   },
   "outputs": [],
   "source": [
    "def similarity(s1, l2): \n",
    "    mismatch=[]\n",
    "    for i in l2:\n",
    "        score=0\n",
    "        if i[0]!=s1[0]:\n",
    "            score+=1\n",
    "        else:\n",
    "            next\n",
    "        if i[1]!=s1[1]:\n",
    "            score+=1\n",
    "        else:\n",
    "            next\n",
    "        if i[2]!=s1[2]:\n",
    "            score+=1\n",
    "        else:\n",
    "            next\n",
    "        mismatch.append(score)\n",
    "    return mismatch"
   ]
  },
  {
   "cell_type": "markdown",
   "metadata": {},
   "source": [
    "substitution(s1,s2)\n",
    "    Creates a binary list designating the positions at which two codons match with 1s and the positions at which they don't \n",
    "    match with 0s\n",
    "\n",
    "    Arguments:\n",
    "        s1 - codon of original amino acid\n",
    "        s2 - codon of substituted amino acid\n",
    "    \n",
    "    Ex. \n",
    "        input:substitution('AAT','TAT')\n",
    "        output: [0,1,1]"
   ]
  },
  {
   "cell_type": "code",
   "execution_count": 6,
   "metadata": {
    "collapsed": true
   },
   "outputs": [],
   "source": [
    "def substitution(s1, s2): \n",
    "    matches=[]\n",
    "    for i in range(len(s2)):\n",
    "        if s2[i]==s1[i]:\n",
    "            matches.append(1)\n",
    "        else:\n",
    "            matches.append(0)\n",
    "    return matches"
   ]
  },
  {
   "cell_type": "markdown",
   "metadata": {},
   "source": [
    "combine(s1,s2)\n",
    "    \n",
    "    This function takes two codons and constructs the appropriate code in the form of NN###NN in which N are the substituted \n",
    "    codon(s) and # refers to the position of the first nucleotide substitution. This format is specific for primer design on \n",
    "    http://www.bioinformatics.org/primerx/cgi-bin/DNA_1.cgi\n",
    "    \n",
    "    Arguments:\n",
    "        s1:original amino acid codon\n",
    "        s2:optimal codon for mutagenesis\n",
    "    \n",
    "    Ex. \n",
    "        input:combine('ATT','TAT')\n",
    "        output:AT1365TA"
   ]
  },
  {
   "cell_type": "code",
   "execution_count": 7,
   "metadata": {
    "collapsed": true
   },
   "outputs": [],
   "source": [
    "def combine(s1,s2):\n",
    "    mut_cod=''\n",
    "    matched = substitution(s1,s2)\n",
    "    for i in range(len(matched)):\n",
    "        if matched[i] == 0:\n",
    "            mut_cod+=s1[i]\n",
    "        else:\n",
    "            next\n",
    "    counter = 0\n",
    "    for i in matched:\n",
    "        if i==0:\n",
    "            break\n",
    "        else:\n",
    "            counter += 1\n",
    "    mut_cod += str(codon_start + counter)\n",
    "    for i in range(len(matched)):\n",
    "        if matched[i] == 0:\n",
    "            mut_cod+=s2[i]\n",
    "        else:\n",
    "            next\n",
    "    return mut_cod"
   ]
  },
  {
   "cell_type": "markdown",
   "metadata": {},
   "source": [
    "## Mutation optimization program"
   ]
  },
  {
   "cell_type": "markdown",
   "metadata": {},
   "source": [
    "Ensure that your working directory contains a text file with your coding sequence and amino acid sequence. The filenames should be changed to the appropriate filenames in the code below. When asked to input the mutation of interest do so in the form of Ex. 'R452A'. "
   ]
  },
  {
   "cell_type": "code",
   "execution_count": 8,
   "metadata": {
    "collapsed": false
   },
   "outputs": [
    {
     "name": "stdout",
     "output_type": "stream",
     "text": [
      "Enter mutation: R452A\n",
      "atgcagatgatgactaggaaggtcctgctgaacatggagctggaggaggacgacgatgaggatggagacattgtgctggaaaactttgaccagacaattgtctgccccacctttggatcactggagaatcagcaggacttcaggactccagagtttgaagaatttaacgggaagcccgactccctctttttcaccgatggccagaggcgaatcgacttcatcctcgtgtatgaagatgagagcaaaaaggagaacaataagaaagggacaaatgagaaacagaagaggaaaagacaagcatacgaatctaaccttatctgccatgggctgcagctggaagcaacaagatctgtttctgatgacaagcttgtgttcgtaaaagtgcacgcgccctgggaagtgctgtgcacctatgctgagatcatgcacatcaaactcccgctaaagccaaacgacctgaaaacgcgctcgccctttggcaacctcaactggttcaccaaggtcctccgggtgaacgagagtgtcatcaagccagagcaggagttcttcactgccccttttgagaagagccggatgaatgatttctacatcctcgatagagattccttcttcaaccctgccaccagaagccgcattgtttatttcatcctctctcgggtcaaataccaagtgatgaacaacgttaacaaatttgggattaatagactggtcagctctggaatctacaaagcagcgtttcctctgcacgactgcagattcaactatgagtcggaggacatcagttgtcctagcgagcgttacctcctgtacagagaatgggctcaccctcggagtatatacaagaagcagcccttggatcttatcaggaagtattacggcgagaagattggaatctactttgcttggctgggctattacacgcagatgctccttctcgcagctgtggtgggcgtggcctgcttcctctatggatatcttgatcaggataactgcacttggagcaaagaggtctgtgatcctgacatcggtggccagatcctgatgtgcccccagtgtgacaggctgtgtccgttctggaggctgaatatcacctgtgaatcttctaagaaattgtgcatctttgacagttttggaaccctgatcttcgctgtatttatgggagtgtgggttacattgtttttggagttttggaagcggcgccaggcagagctcgaatatgaatgggacaccgttgagctacagcaagaggaacaggcccggccagagtatgaggcccagtgcaatcacgtggtgataaacgagatcactcaggaggaggagcgcatcccatttaccacctgtgggaagtgcatccgggtcacgctgtgtgcgagcgccgtcttcttctggatcctgctcatcatcgcctctgtgatcgggatcattgtctacaggctgtccgtgttcatcgtattttccacaacgctccccaagaaccccaacgggacagacccgatccagaagtacctgaccccacagatggccacatccatcacagcctccatcatcagcttcatcatcatcatgatcctcaacacgatctacgagaaggtggccatcatgatcaccaacttcgagctcccaaggacccagacggattatgagaacagcctgaccatgaagatgttcttgttccagtttgtcaactattactcctcatgcttctacatcgcattcttcaagggcaaattcgtgggctatcccggggacccagtgtacttgctgggcaaatacagaagcgaagagtgtgacccggggggctgcctccttgaactgaccacacagctgacgatcatcatggggggaaaggcaatctggaacaacatacaagaagtcttgctcccatgggttatgaatctaattggacgatataaaagagtctcgggatcagaaaagataaccccacgatgggaacaggattaccatctgcagcccatgggcaagctgggattgttctatgagtatcttgaaatgattattcagtttgggttcgtcactttatttgtggcctctttcccactggctcccctgctggctctggtgaacaatattttggaaataagagtggacgcgtggaagctcacaacccagtttaggcgcatggtgcccgaaaaagcccaggatatcggcgcgtggcagcccatcatgcaaggaatagccatcctggccgtggtgaccaacgccatgatcattgctttcacatcagacatgatcccccgcctggtgtattattggtctttctctatccctccctacggggaccacacttattacaccatggacggctacatcaacaacactctctctgtcttcaacatcacggacttcaagaacacagacaaagaaaacccatacattgggcttggtaactataccttgtgcaggtaccgtgacttccgaaacccacctgggcacccacaagagtataaacacaacatctactattggcacgtgattgccgccaagctggccttcatcattgtcatggagcacatcatctactctgtgaagttcttcatttcctacgcaattccagatgtgtccaaaatcacgaaaagcaagatcaagagggagaaatacctcacgcagaagttgcttcacgagagtcacctcaaagacctgaccaaaaacatggggatcatcgccgagaggataggaggaacggttgacaacagcgtgcggccaaaactcgaa\n",
      "CGG\n",
      "GCG\n",
      "CG1354GC\n"
     ]
    }
   ],
   "source": [
    "#Open the DNA coding sequence for the gene of interest\n",
    "f = open('16F coding seq.txt')\n",
    "coding_seq = f.read()\n",
    "coding_seq = coding_seq.replace('\\n','')\n",
    "\n",
    "#Open the amino acid sequence for the protein of interest\n",
    "f=open('mtmem16f prot.txt')\n",
    "aa_seq = f.read()\n",
    "aa_seq = aa_seq.replace('\\n','')\n",
    "\n",
    "#Request user input for the mutation of interest, AA# subtracted by 1 due to python numbering\n",
    "mut = str(input(\"Enter mutation: \"))\n",
    "aa_num = int(strip_string(mut))-1\n",
    "\n",
    "#Determine the codon corresponding to the residue of interest\n",
    "codon = coding_seq[aa_num*3:aa_num*3+3]\n",
    "codon_start=(aa_num+1)*3-2\n",
    "codon = codon.upper()\n",
    "\n",
    "#Residue to be substituted based on user input\n",
    "new_res= mut[-1:]\n",
    "\n",
    "#Refers to dictionary for codons and finds optimal substitution for mutation of interest\n",
    "new_codons = [key for key,value in codontable.items() if value==new_res]\n",
    "rel_match = similarity(codon,new_codons)\n",
    "best_mut = new_codons[rel_match.index(min(rel_match))]\n",
    "\n",
    "#Returns the DNA coding sequence, original codon, substituted codon, and the substitution code in the form of N###N\n",
    "print(coding_seq)\n",
    "print(codon)\n",
    "print(best_mut)\n",
    "print(combine(codon,best_mut))"
   ]
  },
  {
   "cell_type": "code",
   "execution_count": null,
   "metadata": {
    "collapsed": true
   },
   "outputs": [],
   "source": []
  }
 ],
 "metadata": {
  "kernelspec": {
   "display_name": "Python [Root]",
   "language": "python",
   "name": "Python [Root]"
  },
  "language_info": {
   "codemirror_mode": {
    "name": "ipython",
    "version": 3
   },
   "file_extension": ".py",
   "mimetype": "text/x-python",
   "name": "python",
   "nbconvert_exporter": "python",
   "pygments_lexer": "ipython3",
   "version": "3.5.2"
  }
 },
 "nbformat": 4,
 "nbformat_minor": 0
}
