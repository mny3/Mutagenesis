{
 "cells": [
  {
   "cell_type": "markdown",
   "metadata": {},
   "source": [
    "# Low AT Reverse Translator"
   ]
  },
  {
   "cell_type": "markdown",
   "metadata": {},
   "source": [
    "The following script will take as input an amino acid sequence in all caps. It will refer to a codon table and select the codons that correspond with the lowest AT content to return a reverse translated nucleotide sequence."
   ]
  },
  {
   "cell_type": "code",
   "execution_count": 17,
   "metadata": {},
   "outputs": [
    {
     "name": "stdout",
     "output_type": "stream",
     "text": [
      "Insert the AA sequence of interestWRYYESSLEPYPD\n",
      "TGGCGCTACTACGAGTCCTCCCTCGAGCCCTACCCCGAC\n"
     ]
    }
   ],
   "source": [
    "codon_tbl = {'F':['TTT','TTC'],\n",
    "            'L':['TTA','TTG','CTT','CTC','CTA','CTG'],\n",
    "            'I':['ATT','ATC','ATA'],\n",
    "            'M':['ATG'],\n",
    "            'V':['GTT','GTC','GTA','GTG'],\n",
    "            'S':['TCT','TCC','TCA','TCG','AGT','AGC'],\n",
    "            'P':['CCT','CCC','CCA','CCG'],\n",
    "            'T':['ACT','ACC','ACA','ACG'],\n",
    "            'A':['GCT','GCC','GCA','GCG'],\n",
    "            'Y':['TAT','TAC'],\n",
    "            'STOP':['TAA','TAG','TGA'],\n",
    "            'H':['CAT','CAC'],\n",
    "            'Q':['CAA','CAG'],\n",
    "            'N':['AAT','AAC'],\n",
    "            'K':['AAA','AAG'],\n",
    "            'D':['GAT','GAC'],\n",
    "            'E':['GAA','GAG'],\n",
    "            'C':['TGT','TGC'],\n",
    "            'W':['TGG'],\n",
    "            'R':['CGT','CGC','CGA','CGG','AGA','AGG'],\n",
    "            'G':['GGT','GGC','GGA','GGG']}\n",
    "\n",
    "aa_seq = str(input('Insert the AA sequence of interest'))\n",
    "\n",
    "split_seq = list(aa_seq)\n",
    "\n",
    "codon_list = []\n",
    "for aa in split_seq:\n",
    "    codons = codon_tbl[aa]\n",
    "    codon_scores = []\n",
    "    for codon in codons:\n",
    "        A_count = codon.count('A')\n",
    "        T_count = codon.count('T')\n",
    "        codon_scores.append(A_count + T_count)\n",
    "    best_codon = codon_scores.index(min(codon_scores))\n",
    "    codon_list.append(codons[best_codon])\n",
    "\n",
    "nuc_seq = ''.join(codon_list)\n",
    "\n",
    "print(nuc_seq)"
   ]
  }
 ],
 "metadata": {
  "kernelspec": {
   "display_name": "Python 3",
   "language": "python",
   "name": "python3"
  },
  "language_info": {
   "codemirror_mode": {
    "name": "ipython",
    "version": 3
   },
   "file_extension": ".py",
   "mimetype": "text/x-python",
   "name": "python",
   "nbconvert_exporter": "python",
   "pygments_lexer": "ipython3",
   "version": "3.6.5"
  },
  "toc": {
   "base_numbering": 1,
   "nav_menu": {},
   "number_sections": true,
   "sideBar": true,
   "skip_h1_title": false,
   "title_cell": "Table of Contents",
   "title_sidebar": "Contents",
   "toc_cell": false,
   "toc_position": {},
   "toc_section_display": true,
   "toc_window_display": false
  }
 },
 "nbformat": 4,
 "nbformat_minor": 2
}
